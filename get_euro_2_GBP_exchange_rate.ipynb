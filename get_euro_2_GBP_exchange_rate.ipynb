{
 "cells": [
  {
   "cell_type": "code",
   "execution_count": 1,
   "id": "1e052f83-c7da-4c7a-9584-b58bd0266df6",
   "metadata": {},
   "outputs": [],
   "source": [
    "import requests \n",
    "from dotenv import load_dotenv\n",
    "load_dotenv()\n",
    "import sys, os\n",
    "sys.path.append(os.path.join(os.path.dirname(''), '..'))\n",
    "import pandas as pd\n",
    "import json\n",
    "import datetime\n",
    "import numpy as np"
   ]
  },
  {
   "cell_type": "markdown",
   "id": "43b86d8d-d3d5-493a-82d2-f2565b23149c",
   "metadata": {},
   "source": [
    "#### <p style=\"font-family:verdana\"> <span style='color: #138d75' > 1. Load the sales order want to make report for our stake holders.</span></p><p style=\"font-family:'Courier New'\"><span style='color: #138d75' >TThis sales record was generated in the UK. We are based in Germany, so we need to convert from pounds to euros so that we can give our shareholders a direct and immediately comparable figure. It helps them to make decisions. </span></p>"
   ]
  },
  {
   "cell_type": "code",
   "execution_count": 2,
   "id": "cfb1c39f-4c45-4de3-b7dd-57ee29243e7c",
   "metadata": {},
   "outputs": [],
   "source": [
    "df= pd.read_csv('orders.csv')\n",
    "df_GBP=pd.read_csv('EURO2GBP_ex_changerate.csv')"
   ]
  },
  {
   "cell_type": "markdown",
   "id": "5c8470fa-fff9-4a27-a5c3-86c29026e1a9",
   "metadata": {},
   "source": [
    "#### <p style=\"font-family:verdana\"> <span style='color: #138d75' > 2. Chunck only the completed order records for our report at this stage.</span></p><p style=\"font-family:'Courier New'\"><span style='color: #138d75' >Let's select only the orders that were completed and already paid for. And have a overall check the data types and see what for a dataset we got.</span></p>"
   ]
  },
  {
   "cell_type": "code",
   "execution_count": 3,
   "id": "693dc61d-4e29-4ffc-8d84-f1e034374ac3",
   "metadata": {},
   "outputs": [
    {
     "name": "stdout",
     "output_type": "stream",
     "text": [
      "<class 'pandas.core.frame.DataFrame'>\n",
      "Int64Index: 46605 entries, 1 to 226619\n",
      "Data columns (total 4 columns):\n",
      " #   Column        Non-Null Count  Dtype  \n",
      "---  ------        --------------  -----  \n",
      " 0   order_id      46605 non-null  int64  \n",
      " 1   created_date  46605 non-null  object \n",
      " 2   total_paid    46605 non-null  float64\n",
      " 3   state         46605 non-null  object \n",
      "dtypes: float64(1), int64(1), object(2)\n",
      "memory usage: 1.8+ MB\n"
     ]
    }
   ],
   "source": [
    "df = df[df['state']=='Completed']\n",
    "df.sort_values(by=['created_date'])\n",
    "df.info()"
   ]
  },
  {
   "cell_type": "markdown",
   "id": "d951d0b0-a939-4f15-accd-0a12dfd34ecc",
   "metadata": {},
   "source": [
    "#### <p style=\"font-family:verdana\"> <span style='color: #138d75' >3. Formate the column ['created_date'] Object into Dtype.</span></p><p style=\"font-family:'Courier New'\"><span style='color: #138d75' >As we only want to go through a whole procedure. How do we get the foreign exchange(FX) conversion rate for that date through the API based on the guest's payment date. Let's just choose a random month of sales data here. Lest the data is too big and burns the CPU of the computer.</span></p>"
   ]
  },
  {
   "cell_type": "code",
   "execution_count": 4,
   "id": "df871bc7-a454-407d-b51b-1a9644c76231",
   "metadata": {},
   "outputs": [
    {
     "name": "stdout",
     "output_type": "stream",
     "text": [
      "<class 'pandas.core.frame.DataFrame'>\n",
      "Int64Index: 46605 entries, 1 to 226619\n",
      "Data columns (total 4 columns):\n",
      " #   Column        Non-Null Count  Dtype         \n",
      "---  ------        --------------  -----         \n",
      " 0   order_id      46605 non-null  int64         \n",
      " 1   created_date  46605 non-null  datetime64[ns]\n",
      " 2   total_paid    46605 non-null  float64       \n",
      " 3   state         46605 non-null  object        \n",
      "dtypes: datetime64[ns](1), float64(1), int64(1), object(1)\n",
      "memory usage: 1.8+ MB\n"
     ]
    }
   ],
   "source": [
    "df['created_date']= pd.to_datetime(df['created_date'], utc=False)\n",
    "df.info()"
   ]
  },
  {
   "cell_type": "code",
   "execution_count": 5,
   "id": "66152b01-7889-45c1-a3db-8bd9d670cfc4",
   "metadata": {},
   "outputs": [
    {
     "data": {
      "text/html": [
       "<div>\n",
       "<style scoped>\n",
       "    .dataframe tbody tr th:only-of-type {\n",
       "        vertical-align: middle;\n",
       "    }\n",
       "\n",
       "    .dataframe tbody tr th {\n",
       "        vertical-align: top;\n",
       "    }\n",
       "\n",
       "    .dataframe thead th {\n",
       "        text-align: right;\n",
       "    }\n",
       "</style>\n",
       "<table border=\"1\" class=\"dataframe\">\n",
       "  <thead>\n",
       "    <tr style=\"text-align: right;\">\n",
       "      <th></th>\n",
       "      <th>order_id</th>\n",
       "      <th>created_date</th>\n",
       "      <th>total_paid</th>\n",
       "      <th>state</th>\n",
       "    </tr>\n",
       "  </thead>\n",
       "  <tbody>\n",
       "    <tr>\n",
       "      <th>6</th>\n",
       "      <td>245595</td>\n",
       "      <td>2017-01-21 12:52:47</td>\n",
       "      <td>112.97</td>\n",
       "      <td>Completed</td>\n",
       "    </tr>\n",
       "    <tr>\n",
       "      <th>8</th>\n",
       "      <td>245941</td>\n",
       "      <td>2017-01-01 10:32:23</td>\n",
       "      <td>183.52</td>\n",
       "      <td>Completed</td>\n",
       "    </tr>\n",
       "    <tr>\n",
       "      <th>21</th>\n",
       "      <td>254301</td>\n",
       "      <td>2017-01-08 13:10:53</td>\n",
       "      <td>35.91</td>\n",
       "      <td>Completed</td>\n",
       "    </tr>\n",
       "    <tr>\n",
       "      <th>25</th>\n",
       "      <td>254816</td>\n",
       "      <td>2017-01-12 15:57:20</td>\n",
       "      <td>283.83</td>\n",
       "      <td>Completed</td>\n",
       "    </tr>\n",
       "    <tr>\n",
       "      <th>42</th>\n",
       "      <td>260615</td>\n",
       "      <td>2017-01-10 18:59:49</td>\n",
       "      <td>225.16</td>\n",
       "      <td>Completed</td>\n",
       "    </tr>\n",
       "    <tr>\n",
       "      <th>...</th>\n",
       "      <td>...</td>\n",
       "      <td>...</td>\n",
       "      <td>...</td>\n",
       "      <td>...</td>\n",
       "    </tr>\n",
       "    <tr>\n",
       "      <th>19051</th>\n",
       "      <td>318531</td>\n",
       "      <td>2017-01-31 23:14:47</td>\n",
       "      <td>63.98</td>\n",
       "      <td>Completed</td>\n",
       "    </tr>\n",
       "    <tr>\n",
       "      <th>19052</th>\n",
       "      <td>318532</td>\n",
       "      <td>2017-01-31 23:18:50</td>\n",
       "      <td>276.78</td>\n",
       "      <td>Completed</td>\n",
       "    </tr>\n",
       "    <tr>\n",
       "      <th>19059</th>\n",
       "      <td>318539</td>\n",
       "      <td>2017-01-31 23:41:41</td>\n",
       "      <td>98.69</td>\n",
       "      <td>Completed</td>\n",
       "    </tr>\n",
       "    <tr>\n",
       "      <th>19062</th>\n",
       "      <td>318542</td>\n",
       "      <td>2017-01-31 23:35:14</td>\n",
       "      <td>90.24</td>\n",
       "      <td>Completed</td>\n",
       "    </tr>\n",
       "    <tr>\n",
       "      <th>19066</th>\n",
       "      <td>318546</td>\n",
       "      <td>2017-01-31 23:50:27</td>\n",
       "      <td>23.98</td>\n",
       "      <td>Completed</td>\n",
       "    </tr>\n",
       "  </tbody>\n",
       "</table>\n",
       "<p>5135 rows × 4 columns</p>\n",
       "</div>"
      ],
      "text/plain": [
       "       order_id        created_date  total_paid      state\n",
       "6        245595 2017-01-21 12:52:47      112.97  Completed\n",
       "8        245941 2017-01-01 10:32:23      183.52  Completed\n",
       "21       254301 2017-01-08 13:10:53       35.91  Completed\n",
       "25       254816 2017-01-12 15:57:20      283.83  Completed\n",
       "42       260615 2017-01-10 18:59:49      225.16  Completed\n",
       "...         ...                 ...         ...        ...\n",
       "19051    318531 2017-01-31 23:14:47       63.98  Completed\n",
       "19052    318532 2017-01-31 23:18:50      276.78  Completed\n",
       "19059    318539 2017-01-31 23:41:41       98.69  Completed\n",
       "19062    318542 2017-01-31 23:35:14       90.24  Completed\n",
       "19066    318546 2017-01-31 23:50:27       23.98  Completed\n",
       "\n",
       "[5135 rows x 4 columns]"
      ]
     },
     "execution_count": 5,
     "metadata": {},
     "output_type": "execute_result"
    }
   ],
   "source": [
    "df[(df['created_date'] < '2017-2-1 00:00:01') & (df['created_date'] >= '2016-12-31 23:59:00')]"
   ]
  },
  {
   "cell_type": "code",
   "execution_count": 6,
   "id": "dcdab9a3-0ae8-47d5-abb7-2aba8a292d46",
   "metadata": {},
   "outputs": [
    {
     "name": "stdout",
     "output_type": "stream",
     "text": [
      "<class 'pandas.core.frame.DataFrame'>\n",
      "RangeIndex: 35 entries, 0 to 34\n",
      "Data columns (total 2 columns):\n",
      " #   Column              Non-Null Count  Dtype  \n",
      "---  ------              --------------  -----  \n",
      " 0   exchange_rate_date  35 non-null     object \n",
      " 1   GBP                 35 non-null     float64\n",
      "dtypes: float64(1), object(1)\n",
      "memory usage: 688.0+ bytes\n"
     ]
    }
   ],
   "source": [
    "df_GBP.info()"
   ]
  },
  {
   "cell_type": "code",
   "execution_count": 7,
   "id": "567fcc00-6e0d-43f2-aa9d-12dfcf1603b8",
   "metadata": {
    "tags": []
   },
   "outputs": [
    {
     "data": {
      "text/plain": [
       "<AxesSubplot:>"
      ]
     },
     "execution_count": 7,
     "metadata": {},
     "output_type": "execute_result"
    },
    {
     "data": {
      "image/png": "[encoded data removed]",
      "text/plain": [
       "<Figure size 432x288 with 1 Axes>"
      ]
     },
     "metadata": {
      "needs_background": "light"
     },
     "output_type": "display_data"
    }
   ],
   "source": [
    "df_GBP.plot()"
   ]
  },
  {
   "cell_type": "code",
   "execution_count": null,
   "id": "1402e997-dc0a-45cd-93f2-bc293d1ceb62",
   "metadata": {},
   "outputs": [],
   "source": []
  }
 ],
 "metadata": {
  "kernelspec": {
   "display_name": "Python 3 (ipykernel)",
   "language": "python",
   "name": "python3"
  },
  "language_info": {
   "codemirror_mode": {
    "name": "ipython",
    "version": 3
   },
   "file_extension": ".py",
   "mimetype": "text/x-python",
   "name": "python",
   "nbconvert_exporter": "python",
   "pygments_lexer": "ipython3",
   "version": "3.9.12"
  }
 },
 "nbformat": 4,
 "nbformat_minor": 5
}
