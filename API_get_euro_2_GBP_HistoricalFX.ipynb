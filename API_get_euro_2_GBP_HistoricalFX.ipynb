{
 "cells": [
  {
   "cell_type": "code",
   "execution_count": 1,
   "id": "1e052f83-c7da-4c7a-9584-b58bd0266df6",
   "metadata": {},
   "outputs": [],
   "source": [
    "import requests \n",
    "from dotenv import load_dotenv\n",
    "load_dotenv()\n",
    "import sys, os\n",
    "sys.path.append(os.path.join(os.path.dirname(''), '..'))\n",
    "import pandas as pd\n",
    "import json\n",
    "import datetime\n",
    "import numpy as np"
   ]
  },
  {
   "cell_type": "markdown",
   "id": "d951d0b0-a939-4f15-accd-0a12dfd34ecc",
   "metadata": {},
   "source": [
    "#### <p style=\"font-family:verdana\"> <span style='color: #138d75' >1. Create virtural environment to hide our API keys.</span></p><p style=\"font-family:'Courier New'\"><span style='color: #138d75' >After that, we shall also create a '.gitignore' file to add '.env' into it so that git will not push our secret file into the public.\n",
    "</span></p>"
   ]
  },
  {
   "cell_type": "code",
   "execution_count": 2,
   "id": "e10abb49-e599-4993-b4bc-66855ac0bfe7",
   "metadata": {},
   "outputs": [],
   "source": [
    "api_key_dict = os.getenv('currency_exchange_key')"
   ]
  },
  {
   "cell_type": "markdown",
   "id": "feb18db8-e52b-433e-89a7-64917e6bb30b",
   "metadata": {},
   "source": [
    "#### <p style=\"font-family:verdana\"> <span style='color: #138d75' >2. Now we start to use API to collect historical FX.</span></p><p style=\"font-family:'Courier New'\"><span style='color: #138d75' >I used this API to collect currency exchange rates. like RapidAPI. it has few amount of calls. please try to avoide run this line if possible.  :)))</span></p>"
   ]
  },
  {
   "cell_type": "code",
   "execution_count": 3,
   "id": "6895ed87-1f93-4560-af97-0a6f248165a0",
   "metadata": {},
   "outputs": [],
   "source": [
    "url = \"https://api.apilayer.com/exchangerates_data/timeseries?start_date=2016-12-30&end_date=2017-02-02\"\n",
    "\n",
    "payload = {}\n",
    "headers= {\n",
    "  \"apikey\": api_key_dict\n",
    "}\n",
    "\n",
    "response = requests.request(\"GET\", url, headers=headers, data = payload)\n",
    "\n",
    "status_code = response.status_code\n",
    "result = response.text"
   ]
  },
  {
   "cell_type": "code",
   "execution_count": 11,
   "id": "f49b62e6-cd8b-4227-ae7f-a70e0595d49b",
   "metadata": {
    "tags": []
   },
   "outputs": [
    {
     "data": {
      "text/plain": [
       "dict_keys(['success', 'timeseries', 'start_date', 'end_date', 'base', 'rates'])"
      ]
     },
     "execution_count": 11,
     "metadata": {},
     "output_type": "execute_result"
    }
   ],
   "source": []
  },
  {
   "cell_type": "code",
   "execution_count": 5,
   "id": "8b7c5eeb-e972-44cd-b82f-9c899d49f9a3",
   "metadata": {},
   "outputs": [
    {
     "data": {
      "text/plain": [
       "dict_keys(['success', 'timeseries', 'start_date', 'end_date', 'base', 'rates'])"
      ]
     },
     "execution_count": 5,
     "metadata": {},
     "output_type": "execute_result"
    }
   ],
   "source": [
    "result = response.json()\n",
    "result.keys()"
   ]
  },
  {
   "cell_type": "markdown",
   "id": "f6c8895d-395a-456a-aeae-00bd0ac0f4db",
   "metadata": {},
   "source": [
    "#### <p style=\"font-family:verdana\"> <span style='color: #138d75' >5. Lets export/save this FX table as CSV file.</span></p><p style=\"font-family:'Courier New'\"><span style='color: #138d75' >This historical data is all we need to obtain at once. To avoid NoteBook re-run the API codes everything. We save this already fetched data as CSV. This is used for the next step and to convert the sales data into uniform sales figers.</span></p>"
   ]
  },
  {
   "cell_type": "code",
   "execution_count": 6,
   "id": "db8d11ef-88d6-48f1-b395-d2689a927eac",
   "metadata": {},
   "outputs": [
    {
     "data": {
      "text/html": [
       "<div>\n",
       "<style scoped>\n",
       "    .dataframe tbody tr th:only-of-type {\n",
       "        vertical-align: middle;\n",
       "    }\n",
       "\n",
       "    .dataframe tbody tr th {\n",
       "        vertical-align: top;\n",
       "    }\n",
       "\n",
       "    .dataframe thead th {\n",
       "        text-align: right;\n",
       "    }\n",
       "</style>\n",
       "<table border=\"1\" class=\"dataframe\">\n",
       "  <thead>\n",
       "    <tr style=\"text-align: right;\">\n",
       "      <th></th>\n",
       "      <th>exchange_rate_date</th>\n",
       "      <th>GBP</th>\n",
       "    </tr>\n",
       "  </thead>\n",
       "  <tbody>\n",
       "    <tr>\n",
       "      <th>0</th>\n",
       "      <td>2016-12-30</td>\n",
       "      <td>0.852543</td>\n",
       "    </tr>\n",
       "    <tr>\n",
       "      <th>1</th>\n",
       "      <td>2016-12-31</td>\n",
       "      <td>0.852543</td>\n",
       "    </tr>\n",
       "    <tr>\n",
       "      <th>2</th>\n",
       "      <td>2017-01-01</td>\n",
       "      <td>0.853943</td>\n",
       "    </tr>\n",
       "  </tbody>\n",
       "</table>\n",
       "</div>"
      ],
      "text/plain": [
       "  exchange_rate_date       GBP\n",
       "0         2016-12-30  0.852543\n",
       "1         2016-12-31  0.852543\n",
       "2         2017-01-01  0.853943"
      ]
     },
     "execution_count": 6,
     "metadata": {},
     "output_type": "execute_result"
    }
   ],
   "source": [
    "df=pd.DataFrame(result['rates'])\n",
    "df_GBP=df.T\n",
    "df_GBP =pd.DataFrame(df_GBP.GBP).reset_index()\n",
    "\n",
    "df_GBP.columns=['exchange_rate_date','GBP']\n",
    "df_GBP.to_csv('EURO2GBP_ex_changerate.csv',index=False)\n",
    "df_GBP.head(3)\n"
   ]
  },
  {
   "cell_type": "code",
   "execution_count": 14,
   "id": "1402e997-dc0a-45cd-93f2-bc293d1ceb62",
   "metadata": {},
   "outputs": [],
   "source": [
    "df_GBP.to_csv('Euro_2_GBP_HistoricalFX.csv',index=False)"
   ]
  },
  {
   "cell_type": "code",
   "execution_count": null,
   "id": "5773d19a-183a-4c15-a642-ae4753ce71ae",
   "metadata": {},
   "outputs": [],
   "source": []
  }
 ],
 "metadata": {
  "kernelspec": {
   "display_name": "Python 3 (ipykernel)",
   "language": "python",
   "name": "python3"
  },
  "language_info": {
   "codemirror_mode": {
    "name": "ipython",
    "version": 3
   },
   "file_extension": ".py",
   "mimetype": "text/x-python",
   "name": "python",
   "nbconvert_exporter": "python",
   "pygments_lexer": "ipython3",
   "version": "3.9.12"
  }
 },
 "nbformat": 4,
 "nbformat_minor": 5
}
